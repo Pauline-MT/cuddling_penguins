{
 "cells": [
  {
   "cell_type": "markdown",
   "id": "connected-relay",
   "metadata": {},
   "source": [
    "### Imports"
   ]
  },
  {
   "cell_type": "code",
   "execution_count": 1,
   "id": "artificial-pound",
   "metadata": {},
   "outputs": [],
   "source": [
    "from dolfin import *\n",
    "\n",
    "from fenics import *\n",
    "\n",
    "from math import *\n",
    "\n",
    "from mshr import *\n",
    "\n",
    "import numpy as np\n"
   ]
  },
  {
   "cell_type": "markdown",
   "id": "swedish-contrast",
   "metadata": {},
   "source": [
    "La forme du groupe de manchots est aléatoire. \n",
    "\n",
    "Le nombre de manchots M suit une loi de Poisson de paramètre lambda.\n",
    "Les manchots sont serrés les uns aux autres pour minimiser les pertes de chaleur. On assimile leur placement à un quadrillage de forme hexagonale, où les manchots sont placés aux sommets. On suppose que tous les points à l'intérieur du groupe sont occupés. La frontière du groupe de manchots est uniquement déterminée par les manchots qui ont moins de six voisins. On suppose que tous les manchots du groupe ont au moins deux voisins.\n",
    "\n",
    "On commence par générer un quadrillage avec cinq manchots respectant ces conditions. \n",
    "Les manchots suivants sont ajoutés sur le quadrillage en choisissant aléatoirement une position parmi les positions accessibles respectant les conditions énoncées précédemment. Ce tirage aléatoire suit une loi uniforme discrète.\n",
    "\n",
    "Une fois le groupe formé, on suppose que le nombre de manchots présents dans le groupe reste constant. "
   ]
  },
  {
   "cell_type": "markdown",
   "id": "surface-prize",
   "metadata": {},
   "source": [
    "### Tirage du nombre de pingouins"
   ]
  },
  {
   "cell_type": "code",
   "execution_count": 2,
   "id": "academic-scientist",
   "metadata": {},
   "outputs": [],
   "source": [
    "poisson = 20\n",
    "n = np.random.poisson(poisson)"
   ]
  },
  {
   "cell_type": "markdown",
   "id": "secure-buffalo",
   "metadata": {},
   "source": [
    "### Placement des pingouins"
   ]
  },
  {
   "cell_type": "code",
   "execution_count": 3,
   "id": "hourly-persian",
   "metadata": {},
   "outputs": [],
   "source": [
    "b = sqrt(3)/2\n",
    "\n",
    "centres = [0+0j, 1.5+b*1j, 0+2*b*1j, -1.5+b*1j, -1.5-b*1j, 0-2*b*1j, 1.5-b*1j]\n",
    "\n",
    "premiers_pingouins = [0+0j, 1+0j,0.5+b*1j ,-0.5+b*1j,-1+0j, -0.5-b*1j, 0.5-b*1j]\n",
    "\n",
    "\n",
    "Liste_pingouins_suivants = []\n",
    "Liste_pingouins_exte = []\n",
    "for i in range(1, len(centres)):\n",
    "    depart = (i-2)\n",
    "    Liste_pingouins_suivants.append(centres[i])\n",
    "    for k in range(3):\n",
    "        pingouin = premiers_pingouins[1:][(k+depart)%6]\n",
    "        pingouin+=centres[i]\n",
    "        Liste_pingouins_suivants.append(pingouin)\n",
    "        Liste_pingouins_exte.append(pingouin)\n",
    "\n",
    "\n",
    "def hexagone(n):\n",
    "    if n <= 7: return 0\n",
    "    return (n-8)//4+1\n",
    "\n",
    "def pingouins_exte(n):\n",
    "    n_hexagone = hexagone(n)\n",
    "    return premiers_pingouins[n_hexagone+1:]+Liste_pingouins_exte[:n-7]"
   ]
  },
  {
   "cell_type": "markdown",
   "id": "advance-narrow",
   "metadata": {},
   "source": [
    "### Expression du vent\n",
    "\n",
    "On tire la vitesse du vent et sa composante horizontale suivant une loi normale."
   ]
  },
  {
   "cell_type": "code",
   "execution_count": 4,
   "id": "confident-biography",
   "metadata": {},
   "outputs": [
    {
     "name": "stdout",
     "output_type": "stream",
     "text": [
      "59.32174797274645 4.787107062790449\n"
     ]
    }
   ],
   "source": [
    "w0_moy =  60\n",
    "w0_var = 0.5\n",
    "alpha_moy = 5\n",
    "alpha_var = 0.5\n",
    "\n",
    "w0 = np.random.normal(w0_moy,w0_var)\n",
    "alpha = np.random.normal(alpha_moy,alpha_var)\n",
    "\n",
    "print(w0, alpha)\n",
    "\n",
    "def W():\n",
    "    return Expression((\"w0*cos(alpha)\",\"w0*sin(alpha)\"))"
   ]
  },
  {
   "cell_type": "code",
   "execution_count": 5,
   "id": "daily-geometry",
   "metadata": {},
   "outputs": [
    {
     "name": "stdout",
     "output_type": "stream",
     "text": [
      "<function W at 0x7fade0cef7b8>\n"
     ]
    }
   ],
   "source": [
    "print(W)"
   ]
  },
  {
   "cell_type": "markdown",
   "id": "variable-orlando",
   "metadata": {},
   "source": [
    "### Définition des paramètres"
   ]
  },
  {
   "cell_type": "code",
   "execution_count": 6,
   "id": "proud-dublin",
   "metadata": {},
   "outputs": [
    {
     "ename": "TypeError",
     "evalue": "unsupported operand type(s) for /: 'function' and 'float'",
     "output_type": "error",
     "traceback": [
      "\u001b[0;31m---------------------------------------------------------------------------\u001b[0m",
      "\u001b[0;31mTypeError\u001b[0m                                 Traceback (most recent call last)",
      "\u001b[0;32m<ipython-input-6-fbe5a480dcea>\u001b[0m in \u001b[0;36m<module>\u001b[0;34m\u001b[0m\n\u001b[1;32m      4\u001b[0m \u001b[0mR\u001b[0m \u001b[0;34m=\u001b[0m \u001b[0msqrt\u001b[0m\u001b[0;34m(\u001b[0m\u001b[0mn\u001b[0m\u001b[0;34m)\u001b[0m\u001b[0;34m/\u001b[0m\u001b[0;36m2\u001b[0m\u001b[0;34m\u001b[0m\u001b[0;34m\u001b[0m\u001b[0m\n\u001b[1;32m      5\u001b[0m \u001b[0;34m\u001b[0m\u001b[0m\n\u001b[0;32m----> 6\u001b[0;31m \u001b[0mwadim\u001b[0m \u001b[0;34m=\u001b[0m \u001b[0mW\u001b[0m\u001b[0;34m/\u001b[0m\u001b[0mw0\u001b[0m\u001b[0;34m\u001b[0m\u001b[0;34m\u001b[0m\u001b[0m\n\u001b[0m\u001b[1;32m      7\u001b[0m \u001b[0;34m\u001b[0m\u001b[0m\n",
      "\u001b[0;31mTypeError\u001b[0m: unsupported operand type(s) for /: 'function' and 'float'"
     ]
    }
   ],
   "source": [
    "Pe= 12 \n",
    "Tinf = -40\n",
    "Tp = 39\n",
    "R = sqrt(n)/2\n",
    "\n",
    "wadim = W/w0\n",
    "\n"
   ]
  },
  {
   "cell_type": "markdown",
   "id": "invalid-breathing",
   "metadata": {},
   "source": [
    "### Création du maillage"
   ]
  },
  {
   "cell_type": "code",
   "execution_count": 7,
   "id": "unusual-wages",
   "metadata": {},
   "outputs": [],
   "source": [
    "domain_vertices = [Point(pingouin.real, pingouin.imag) for pingouin in pingouins_exte(n)]\n",
    "domain = Polygon(domain_vertices)\n",
    "mesh = generate_mesh(domain,40)"
   ]
  },
  {
   "cell_type": "code",
   "execution_count": 8,
   "id": "bigger-maria",
   "metadata": {},
   "outputs": [],
   "source": [
    "Hh2 = FunctionSpace(mesh, 'P', 2)"
   ]
  },
  {
   "cell_type": "markdown",
   "id": "rural-theology",
   "metadata": {},
   "source": [
    "### Conditions de bord"
   ]
  },
  {
   "cell_type": "code",
   "execution_count": 9,
   "id": "diverse-runner",
   "metadata": {},
   "outputs": [],
   "source": [
    "def liste_pingouins(n):\n",
    "    return Liste_pingouins_finale[:n]\n",
    "\n",
    "def test_dedans(n, xp, yp):\n",
    "    L_triangles = []\n",
    "    L_pingouins = liste_pingouins(n)\n",
    "    for i in range(len(L_pingouins)):\n",
    "        for j in range(i+1, len(L_pingouins)):\n",
    "            for k in range(j+1, len(L_pingouins)):\n",
    "                if abs(L_pingouins[i]-L_pingouins[j])< 1.2 and abs(L_pingouins[i]-L_pingouins[k])< 1.2 and abs(L_pingouins[k]-L_pingouins[j])< 1.2:\n",
    "                    L_triangles.append((L_pingouins[i],L_pingouins[j],L_pingouins[k]))\n",
    "    \n",
    "    for triangle in L_triangles:\n",
    "        x1, y1 = triangle[0].real, triangle[0].imag\n",
    "        x2, y2 = triangle[1].real, triangle[1].imag\n",
    "        x3, y3 = triangle[2].real, triangle[2].imag\n",
    "        c1 = (x2 - x1) * (yp - y1) - (y2 - y1) * (xp - x1)\n",
    "        c2 = (x3 - x2) * (yp - y2) - (y3 - y2) * (xp - x2)\n",
    "        c3 = (x1 - x3) * (yp - y3) - (y1 - y3) * (xp - x3)\n",
    "        if (c1 < 0 and c2 < 0 and c3 < 0) or (c1 > 0 and c2 > 0 and c3 > 0):\n",
    "            return False\n",
    "\n",
    "    return True"
   ]
  },
  {
   "cell_type": "code",
   "execution_count": 10,
   "id": "delayed-popularity",
   "metadata": {},
   "outputs": [],
   "source": [
    "tol = 1E-14\n",
    "\n",
    "class Frontiere(SubDomain):\n",
    "    def inside(self, x, on_boundary):\n",
    "        frontiere = on_boundary\n",
    "        for i in range(len(Liste_pingouins_exte)-1):\n",
    "            x_1, y_1 = Liste_pingouins_exte[i].real, Liste_pingouins_exte[i].imag\n",
    "            x_2, y_2 = Liste_pingouins_exte[i+1].real, Liste_pingouins_exte[i+1].imag\n",
    "            ymin = min([y_1, y_2])\n",
    "            ymax = max([y_1, y_2])\n",
    "            if x_1 != x_2:\n",
    "                a = (y_2 - y_1)/(x_2 - x_1)\n",
    "                b = y_2 - a*x_2\n",
    "                frontiere = frontiere or (abs(x[1] - a*x[0]+b) < tol ) and  (x[1]<ymax and x[1]>ymin)\n",
    "            if x_1 == x_2:            \n",
    "                frontiere = frontiere or (( abs(x[0]-x_1)<tol) and (x[1]<ymax and x[1]>ymin))\n",
    "\n",
    "        return frontiere\n",
    "        \n",
    "\n",
    "class Cadre_Top(SubDomain):\n",
    "    def inside(self, x, on_boundary):\n",
    "        return on_boundary and (abs(x[0]-15)<tol) \n",
    "    \n",
    "class Cadre_Bot(SubDomain):\n",
    "    def inside(self, x, on_boundary):\n",
    "        return on_boundary and (abs(x[0]+15)<tol) \n",
    "\n",
    "class Cadre_Right(SubDomain):\n",
    "    def inside(self, x, on_boundary):\n",
    "        return on_boundary and (abs(x[1]-15)<tol) \n",
    "    \n",
    "class Cadre_Left(SubDomain):\n",
    "    def inside(self, x, on_boundary):\n",
    "        return on_boundary and (abs(x[0]+15)<tol) \n",
    "\n",
    "frontiere = Frontiere()  \n",
    "boundaries = MeshFunction(\"size_t\", mesh, mesh.topology().dim()-1, 0)\n",
    "\n",
    "cadre_top = Cadre_Top()\n",
    "cadre_bot = Cadre_Bot()\n",
    "cadre_right = Cadre_Right()\n",
    "cadre_left = Cadre_Left()\n",
    "\n",
    "ds = Measure(\"ds\", domain=mesh, subdomain_data=boundaries)\n",
    "\n",
    "DirichCond = [DirichletBC(Hh2, Constant(1), frontiere), DirichletBC(Hh2, Constant(Tinf), cadre_top), DirichletBC(Hh2, Constant(Tinf), cadre_bot), DirichletBC(Hh2, Constant(Tinf), cadre_right), DirichletBC(Hh2, Constant(Tinf), cadre_left)]"
   ]
  },
  {
   "cell_type": "markdown",
   "id": "weighted-revision",
   "metadata": {},
   "source": [
    "### Résolution de la formulation variationnelle"
   ]
  },
  {
   "cell_type": "code",
   "execution_count": 11,
   "id": "proprietary-cycling",
   "metadata": {},
   "outputs": [
    {
     "name": "stdout",
     "output_type": "stream",
     "text": [
      "Calling FFC just-in-time (JIT) compiler, this may take some time.\n"
     ]
    }
   ],
   "source": [
    "u = TrialFunction(Hh2)\n",
    "v = TestFunction(Hh2)\n",
    "F = (inner(grad(u), grad(v))-Pe*(cos(alpha)*grad(u)[0]+sin(alpha)*grad(u)[1]*v))*dx\n",
    "\n",
    "\n",
    "a = lhs(F)\n",
    "l = rhs(F)\n",
    "\n",
    "u = Function(Hh2)\n",
    "solve(a == l, u, DirichCond)"
   ]
  },
  {
   "cell_type": "markdown",
   "id": "equivalent-border",
   "metadata": {},
   "source": [
    "Tracé de la solution"
   ]
  },
  {
   "cell_type": "code",
   "execution_count": 12,
   "id": "delayed-nepal",
   "metadata": {},
   "outputs": [
    {
     "data": {
      "text/plain": [
       "<matplotlib.colorbar.Colorbar at 0x7fadd859d080>"
      ]
     },
     "execution_count": 12,
     "metadata": {},
     "output_type": "execute_result"
    },
    {
     "data": {
      "image/png": "[encoded data removed]",
      "text/plain": [
       "<Figure size 432x288 with 2 Axes>"
      ]
     },
     "metadata": {
      "needs_background": "light"
     },
     "output_type": "display_data"
    }
   ],
   "source": [
    "import matplotlib.pyplot as plt\n",
    "\n",
    "plu = plot(u)\n",
    "plt.title('Champ de température autour des pingouins')\n",
    "plt.xlabel('x')\n",
    "plt.ylabel('y')\n",
    "plt.colorbar(plu)"
   ]
  },
  {
   "cell_type": "code",
   "execution_count": null,
   "id": "focal-knife",
   "metadata": {},
   "outputs": [],
   "source": []
  }
 ],
 "metadata": {
  "kernelspec": {
   "display_name": "Python 3",
   "language": "python",
   "name": "python3"
  },
  "language_info": {
   "codemirror_mode": {
    "name": "ipython",
    "version": 3
   },
   "file_extension": ".py",
   "mimetype": "text/x-python",
   "name": "python",
   "nbconvert_exporter": "python",
   "pygments_lexer": "ipython3",
   "version": "3.8.5"
  }
 },
 "nbformat": 4,
 "nbformat_minor": 5
}
