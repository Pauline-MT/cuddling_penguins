{
 "cells": [
  {
   "cell_type": "markdown",
   "id": "designed-maria",
   "metadata": {},
   "source": [
    "# Modélisation de la température autour d'un groupe de manchots"
   ]
  },
  {
   "cell_type": "markdown",
   "id": "closing-compilation",
   "metadata": {},
   "source": [
    "### 1) Présentation du problème"
   ]
  },
  {
   "cell_type": "markdown",
   "id": "tracked-exception",
   "metadata": {},
   "source": [
    "Les manchots se regroupent pour se tenir chaud. \n",
    "Nous allons étudier l'influence de la direction, de la norme du vent et du nombre de manchots sur l'évolution de la température extérieure autour du groupe de manchots. \n",
    "\n",
    "Le domaine étudié est un domaine carré $\\Omega$=ABCD avec A, B, C et D les sommets du carré, autour du groupe de manchots. L'intérieur du groupe de manchots est considéré comme étant extérieur au domaine. On appelle la frontière entre notre domaine et le groupe de manchots $ \\partial \\Omega_{int} $\n",
    "On suppose que l'on observe le groupe de manchots vu de haut.\n",
    "\n",
    "La température à l'extérieur du groupe de manchots suit l'équation d'advection diffusion : \n",
    "$\\overrightarrow{w}\\nabla(T) = D\\Delta(T) $\n",
    "\n",
    "Avec $\\overrightarrow{w}$ le vent   \n",
    "D = $\\frac{\\lambda}{c_P \\rho} $ le coefficient de diffusion thermique  \n",
    "T : la température extérieure au groupe de manchots  \n",
    "\n",
    "A T = 250 K, on a D = 1.6E-6 $s.m^{-2}$\n",
    "       \n",
    "On utilise des conditions au bord de Dirichlet avec :  \n",
    "    - T = 39°C, la température des manchots, donc aux bords du domaines autour du groupe de manchots.  \n",
    "    - T = -23 °C, la température de l'air loin du groupe du manchots, donc sur les bords extérieurs du domaine."
   ]
  },
  {
   "cell_type": "markdown",
   "id": "green-lawsuit",
   "metadata": {},
   "source": [
    "### 2) Mise en équations du problème"
   ]
  },
  {
   "cell_type": "markdown",
   "id": "finite-wagon",
   "metadata": {},
   "source": [
    "On étudie le problème suivant : \n",
    "    $\\left \\{\n",
    "        \\begin{array}{lll}\n",
    "            \\overrightarrow{w}\\nabla(T) = D\\Delta(T)  dans \\Omega \\\\\n",
    "            \\left \\{\n",
    "                \\begin{array}{ll}\n",
    "                    T = Tp & \\mbox{si}  \\ x   \\in \\partial \\Omega_{int}  \\\\ \n",
    "                    T = T_{\\inf} & \\mbox{sur}  \\  [A,B] \\cup [B,C] \\cup [C,D] \\cup [D,A]  \\\\\n",
    "                \\end{array}\n",
    "            \\right.\n",
    "        \\end{array}\n",
    "    \\right.  $\n",
    "    \n",
    "On simule le problème pour n pingouins\n",
    "On considère comme longueur caractéristique le rayon qu'aurait un disque occupé par ce nombre de pingouins.\n",
    "On adimensionne notre problème en posant :   \n",
    "\n",
    "$ T* = \\frac{T-T_{\\inf}}{T-T_{p}} \\\\\n",
    "\\overrightarrow{w*} = \\frac{\\overrightarrow{w}}{w0} $ avec w0 la vitesse du vent\n",
    "\n",
    "\n",
    "$ Pe =  \\frac{w0 L}{D} $ le nombre de Péclet.\n",
    "\n",
    "Le problème adimensionné devient : \n",
    "$\\left \\{\n",
    "        \\begin{array}{lll}\n",
    "            \\overrightarrow{w*}\\nabla(T*) = Pe\\Delta(T*) \\  dans \\  \\Omega \\\\\n",
    "            \\left \\{\n",
    "                \\begin{array}{ll}\n",
    "                    T = 1 & \\mbox{si}  \\ x   \\in \\partial \\Omega_{int}  \\\\ \n",
    "                    T = 0 & \\mbox{sur}  \\  [A,B] \\cup [B,C] \\cup [C,D] \\cup [D,A]  \\\\\n",
    "                \\end{array}\n",
    "            \\right.\n",
    "        \\end{array}\n",
    "    \\right.  $\n",
    "    \n",
    "Par souci de simplification, on omet les * dans les notations. \n",
    "\n",
    "La formulation variationnelle devient\n",
    "\n",
    "\"Trouver $ u \\in H=\\{v\\in H^{1}(\\Omega)\\,:\\,v|_{[A,B] \\cup [B,C] \\cup [C,D] \\cup [D,A]}=0\\, \\ et \\  v|_{\\partial \\Omega_{int} = 0}\\} $ tel que\n",
    "\n",
    "$$\\forall v\\in H,\\quad \\int_{\\Omega}(\\nabla u \\nabla v) = Pe \\int_{\\Omega}(\\overrightarrow{w} \\nabla T v) \"$$\n",
    "\n",
    "\n"
   ]
  },
  {
   "cell_type": "markdown",
   "id": "industrial-explanation",
   "metadata": {},
   "source": [
    "### 3) Résolution numérique\n",
    "\n",
    "#### Importations"
   ]
  },
  {
   "cell_type": "code",
   "execution_count": 1,
   "id": "cheap-plastic",
   "metadata": {},
   "outputs": [
    {
     "ename": "ModuleNotFoundError",
     "evalue": "No module named 'matplotlib'",
     "output_type": "error",
     "traceback": [
      "\u001b[0;31m---------------------------------------------------------------------------\u001b[0m",
      "\u001b[0;31mModuleNotFoundError\u001b[0m                       Traceback (most recent call last)",
      "\u001b[0;32m<ipython-input-1-fb81129ba5a2>\u001b[0m in \u001b[0;36m<module>\u001b[0;34m\u001b[0m\n\u001b[1;32m      4\u001b[0m \u001b[0;32mfrom\u001b[0m \u001b[0mmshr\u001b[0m \u001b[0;32mimport\u001b[0m \u001b[0;34m*\u001b[0m\u001b[0;34m\u001b[0m\u001b[0;34m\u001b[0m\u001b[0m\n\u001b[1;32m      5\u001b[0m \u001b[0;32mimport\u001b[0m \u001b[0mnumpy\u001b[0m \u001b[0;32mas\u001b[0m \u001b[0mnp\u001b[0m\u001b[0;34m\u001b[0m\u001b[0;34m\u001b[0m\u001b[0m\n\u001b[0;32m----> 6\u001b[0;31m \u001b[0;32mimport\u001b[0m \u001b[0mmatplotlib\u001b[0m\u001b[0;34m.\u001b[0m\u001b[0mpyplot\u001b[0m \u001b[0;32mas\u001b[0m \u001b[0mplt\u001b[0m\u001b[0;34m\u001b[0m\u001b[0;34m\u001b[0m\u001b[0m\n\u001b[0m",
      "\u001b[0;31mModuleNotFoundError\u001b[0m: No module named 'matplotlib'"
     ]
    }
   ],
   "source": [
    "from dolfin import *\n",
    "from fenics import *\n",
    "from math import *\n",
    "from mshr import *\n",
    "import numpy as np\n",
    "import matplotlib.pyplot as plt"
   ]
  },
  {
   "cell_type": "markdown",
   "id": "unnecessary-draft",
   "metadata": {},
   "source": [
    "Le nombre de manchots est aléatoire. \n",
    "\n",
    "Le nombre de manchots n suit une loi de Poisson de paramètre 20.\n",
    "Les manchots sont serrés les uns aux autres pour minimiser les pertes de chaleur. On assimile leur placement à un quadrillage de forme hexagonale, où les manchots sont placés aux sommets. On suppose que tous les points à l'intérieur du groupe sont occupés. La frontière du groupe de manchots est uniquement déterminée par les manchots qui ont moins de six voisins. On suppose que tous les manchots du groupe ont au moins deux voisins.\n",
    "\n",
    "On commence par générer un quadrillage avec sept manchots formant le premier hexagone (avec un manchot au centre). \n",
    "Pour faciliter la construction de la frontière du domaine, on place les manchots suivants pour compléter les hexagones au fur et à mesure.\n",
    "\n",
    "La forme du groupe de manchot dépend donc du nombre de manchots tiré aléatoirement. La géométrie du domaine varie donc de manière aléatoire.\n",
    "\n",
    "Une fois le groupe formé, on suppose que le nombre de manchots présents dans le groupe reste constant. "
   ]
  },
  {
   "cell_type": "markdown",
   "id": "lasting-warehouse",
   "metadata": {},
   "source": [
    "### Tirage du nombre de manchots"
   ]
  },
  {
   "cell_type": "code",
   "execution_count": null,
   "id": "industrial-ordering",
   "metadata": {},
   "outputs": [],
   "source": [
    "poisson = 20\n",
    "n = np.random.poisson(poisson)"
   ]
  },
  {
   "cell_type": "markdown",
   "id": "fallen-armenia",
   "metadata": {},
   "source": [
    "### Placement des manchots"
   ]
  },
  {
   "cell_type": "code",
   "execution_count": null,
   "id": "floating-promotion",
   "metadata": {},
   "outputs": [],
   "source": [
    "b = sqrt(3)/2\n",
    "\n",
    "centres = [0+0j, 1.5+b*1j, 0+2*b*1j, -1.5+b*1j, -1.5-b*1j, 0-2*b*1j, 1.5-b*1j]\n",
    "\n",
    "premiers_pingouins = [0+0j, 1+0j,0.5+b*1j ,-0.5+b*1j,-1+0j, -0.5-b*1j, 0.5-b*1j]\n",
    "\n",
    "\n",
    "Liste_pingouins_suivants = []\n",
    "Liste_pingouins_exte = []\n",
    "for i in range(1, len(centres)):\n",
    "    depart = (i-2)\n",
    "    Liste_pingouins_suivants.append(centres[i])\n",
    "    for k in range(3):\n",
    "        pingouin = premiers_pingouins[1:][(k+depart)%6]\n",
    "        pingouin+=centres[i]\n",
    "        Liste_pingouins_suivants.append(pingouin)\n",
    "        Liste_pingouins_exte.append(pingouin)\n",
    "\n",
    "\n",
    "def hexagone(n):\n",
    "    if n <= 7: return 0\n",
    "    return (n-8)//4+1\n",
    "\n",
    "def pingouins_exte(n):\n",
    "    n_hexagone = hexagone(n)\n",
    "    return premiers_pingouins[n_hexagone+1:]+Liste_pingouins_exte[:n-7]"
   ]
  },
  {
   "cell_type": "markdown",
   "id": "identical-gender",
   "metadata": {},
   "source": [
    "### Affichage du placement des pingouins"
   ]
  },
  {
   "cell_type": "code",
   "execution_count": null,
   "id": "lined-watch",
   "metadata": {},
   "outputs": [],
   "source": [
    "Liste_pingouins_finale = premiers_pingouins +  Liste_pingouins_suivants\n",
    "Liste_pingouins_reel = [z.real for z in Liste_pingouins_finale]\n",
    "Liste_pingouins_img = [z.imag for z in Liste_pingouins_finale]\n",
    "\n",
    "plt.plot(Liste_pingouins_reel, Liste_pingouins_img,'o', color=\"black\")\n",
    "plt.xlim([-15,15])\n",
    "plt.ylim([-15,15])\n",
    "plt.show()"
   ]
  },
  {
   "cell_type": "markdown",
   "id": "floating-korean",
   "metadata": {},
   "source": [
    "### Expression du vent\n",
    "\n",
    "On tire la vitesse du vent et sa composante horizontale suivant une loi normale."
   ]
  },
  {
   "cell_type": "code",
   "execution_count": 4,
   "id": "correct-potential",
   "metadata": {},
   "outputs": [
    {
     "ename": "NameError",
     "evalue": "name 'np' is not defined",
     "output_type": "error",
     "traceback": [
      "\u001b[0;31m---------------------------------------------------------------------------\u001b[0m",
      "\u001b[0;31mNameError\u001b[0m                                 Traceback (most recent call last)",
      "\u001b[0;32m<ipython-input-4-6be67b566508>\u001b[0m in \u001b[0;36m<module>\u001b[0;34m\u001b[0m\n\u001b[1;32m      4\u001b[0m \u001b[0malpha_var\u001b[0m \u001b[0;34m=\u001b[0m \u001b[0;36m0.5\u001b[0m\u001b[0;34m\u001b[0m\u001b[0;34m\u001b[0m\u001b[0m\n\u001b[1;32m      5\u001b[0m \u001b[0;34m\u001b[0m\u001b[0m\n\u001b[0;32m----> 6\u001b[0;31m \u001b[0mw0\u001b[0m \u001b[0;34m=\u001b[0m \u001b[0mnp\u001b[0m\u001b[0;34m.\u001b[0m\u001b[0mrandom\u001b[0m\u001b[0;34m.\u001b[0m\u001b[0mnormal\u001b[0m\u001b[0;34m(\u001b[0m\u001b[0mw0_moy\u001b[0m\u001b[0;34m,\u001b[0m\u001b[0mw0_var\u001b[0m\u001b[0;34m)\u001b[0m\u001b[0;34m\u001b[0m\u001b[0;34m\u001b[0m\u001b[0m\n\u001b[0m\u001b[1;32m      7\u001b[0m \u001b[0malpha\u001b[0m \u001b[0;34m=\u001b[0m \u001b[0mnp\u001b[0m\u001b[0;34m.\u001b[0m\u001b[0mrandom\u001b[0m\u001b[0;34m.\u001b[0m\u001b[0mnormal\u001b[0m\u001b[0;34m(\u001b[0m\u001b[0malpha_moy\u001b[0m\u001b[0;34m,\u001b[0m\u001b[0malpha_var\u001b[0m\u001b[0;34m)\u001b[0m\u001b[0;34m\u001b[0m\u001b[0;34m\u001b[0m\u001b[0m\n\u001b[1;32m      8\u001b[0m \u001b[0;34m\u001b[0m\u001b[0m\n",
      "\u001b[0;31mNameError\u001b[0m: name 'np' is not defined"
     ]
    }
   ],
   "source": [
    "w0_moy =  5\n",
    "w0_var = 0.5\n",
    "alpha_moy = 5\n",
    "alpha_var = 0.5\n",
    "\n",
    "w0 = np.random.normal(w0_moy,w0_var)\n",
    "alpha = np.random.normal(alpha_moy,alpha_var)\n",
    "\n",
    "print(w0, alpha)\n",
    "\n",
    "def W():\n",
    "    return Expression((\"cos(alpha)\",\"sin(alpha)\"))"
   ]
  },
  {
   "cell_type": "code",
   "execution_count": null,
   "id": "demonstrated-exclusive",
   "metadata": {},
   "outputs": [],
   "source": [
    "print(W)"
   ]
  },
  {
   "cell_type": "markdown",
   "id": "proprietary-racing",
   "metadata": {},
   "source": [
    "### Définition des paramètres"
   ]
  },
  {
   "cell_type": "code",
   "execution_count": 5,
   "id": "finite-squad",
   "metadata": {},
   "outputs": [
    {
     "ename": "NameError",
     "evalue": "name 'sqrt' is not defined",
     "output_type": "error",
     "traceback": [
      "\u001b[0;31m---------------------------------------------------------------------------\u001b[0m",
      "\u001b[0;31mNameError\u001b[0m                                 Traceback (most recent call last)",
      "\u001b[0;32m<ipython-input-5-b04690d455a2>\u001b[0m in \u001b[0;36m<module>\u001b[0;34m\u001b[0m\n\u001b[1;32m      2\u001b[0m \u001b[0mTinf\u001b[0m \u001b[0;34m=\u001b[0m \u001b[0;36m250\u001b[0m\u001b[0;34m\u001b[0m\u001b[0;34m\u001b[0m\u001b[0m\n\u001b[1;32m      3\u001b[0m \u001b[0mTp\u001b[0m \u001b[0;34m=\u001b[0m \u001b[0;36m312\u001b[0m\u001b[0;34m\u001b[0m\u001b[0;34m\u001b[0m\u001b[0m\n\u001b[0;32m----> 4\u001b[0;31m \u001b[0mR\u001b[0m \u001b[0;34m=\u001b[0m \u001b[0msqrt\u001b[0m\u001b[0;34m(\u001b[0m\u001b[0mn\u001b[0m\u001b[0;34m)\u001b[0m\u001b[0;34m/\u001b[0m\u001b[0;36m2\u001b[0m\u001b[0;34m\u001b[0m\u001b[0;34m\u001b[0m\u001b[0m\n\u001b[0m\u001b[1;32m      5\u001b[0m \u001b[0;34m\u001b[0m\u001b[0m\n\u001b[1;32m      6\u001b[0m \u001b[0mPe\u001b[0m\u001b[0;34m=\u001b[0m \u001b[0mw0\u001b[0m\u001b[0;34m*\u001b[0m\u001b[0mR\u001b[0m\u001b[0;34m/\u001b[0m\u001b[0mD\u001b[0m\u001b[0;34m\u001b[0m\u001b[0;34m\u001b[0m\u001b[0m\n",
      "\u001b[0;31mNameError\u001b[0m: name 'sqrt' is not defined"
     ]
    }
   ],
   "source": [
    "D = 1.6E-6 \n",
    "Tinf = 250\n",
    "Tp = 312\n",
    "R = sqrt(n)/2\n",
    "\n",
    "Pe= w0*R/D"
   ]
  },
  {
   "cell_type": "markdown",
   "id": "collectible-reconstruction",
   "metadata": {},
   "source": [
    "### Création du maillage"
   ]
  },
  {
   "cell_type": "code",
   "execution_count": 3,
   "id": "balanced-memorabilia",
   "metadata": {},
   "outputs": [
    {
     "ename": "NameError",
     "evalue": "name 'Liste_pingouins_finale' is not defined",
     "output_type": "error",
     "traceback": [
      "\u001b[0;31m---------------------------------------------------------------------------\u001b[0m",
      "\u001b[0;31mNameError\u001b[0m                                 Traceback (most recent call last)",
      "\u001b[0;32m<ipython-input-3-1f10d3384922>\u001b[0m in \u001b[0;36m<module>\u001b[0;34m\u001b[0m\n\u001b[0;32m----> 1\u001b[0;31m \u001b[0mx_dernier_pingouin\u001b[0m\u001b[0;34m,\u001b[0m \u001b[0my_dernier_pingouin\u001b[0m \u001b[0;34m=\u001b[0m \u001b[0mListe_pingouins_finale\u001b[0m\u001b[0;34m[\u001b[0m\u001b[0;34m:\u001b[0m\u001b[0mn\u001b[0m\u001b[0;34m]\u001b[0m\u001b[0;34m[\u001b[0m\u001b[0;34m-\u001b[0m\u001b[0;36m1\u001b[0m\u001b[0;34m]\u001b[0m\u001b[0;34m.\u001b[0m\u001b[0mreal\u001b[0m\u001b[0;34m,\u001b[0m \u001b[0mListe_pingouins_finale\u001b[0m\u001b[0;34m[\u001b[0m\u001b[0;34m:\u001b[0m\u001b[0mn\u001b[0m\u001b[0;34m]\u001b[0m\u001b[0;34m[\u001b[0m\u001b[0;34m-\u001b[0m\u001b[0;36m1\u001b[0m\u001b[0;34m]\u001b[0m\u001b[0;34m.\u001b[0m\u001b[0mimag\u001b[0m\u001b[0;34m\u001b[0m\u001b[0;34m\u001b[0m\u001b[0m\n\u001b[0m\u001b[1;32m      2\u001b[0m \u001b[0;32mif\u001b[0m \u001b[0mabs\u001b[0m\u001b[0;34m(\u001b[0m\u001b[0mx_dernier_pingouin\u001b[0m\u001b[0;34m)\u001b[0m \u001b[0;34m<=\u001b[0m \u001b[0mabs\u001b[0m\u001b[0;34m(\u001b[0m\u001b[0my_dernier_pingouin\u001b[0m\u001b[0;34m)\u001b[0m\u001b[0;34m:\u001b[0m\u001b[0;34m\u001b[0m\u001b[0;34m\u001b[0m\u001b[0m\n\u001b[1;32m      3\u001b[0m     \u001b[0mx_coupure\u001b[0m \u001b[0;34m=\u001b[0m \u001b[0mx_dernier_pingouin\u001b[0m\u001b[0;34m\u001b[0m\u001b[0;34m\u001b[0m\u001b[0m\n\u001b[1;32m      4\u001b[0m     \u001b[0;32mif\u001b[0m \u001b[0my_dernier_pingouin\u001b[0m \u001b[0;34m<=\u001b[0m \u001b[0;36m0\u001b[0m \u001b[0;34m:\u001b[0m\u001b[0;34m\u001b[0m\u001b[0;34m\u001b[0m\u001b[0m\n\u001b[1;32m      5\u001b[0m         \u001b[0my_coupure\u001b[0m \u001b[0;34m=\u001b[0m \u001b[0;34m-\u001b[0m\u001b[0;36m15\u001b[0m\u001b[0;34m\u001b[0m\u001b[0;34m\u001b[0m\u001b[0m\n",
      "\u001b[0;31mNameError\u001b[0m: name 'Liste_pingouins_finale' is not defined"
     ]
    }
   ],
   "source": [
    "x_dernier_pingouin, y_dernier_pingouin = Liste_pingouins_finale[:n][-1].real, Liste_pingouins_finale[:n][-1].imag\n",
    "if abs(x_dernier_pingouin) <= abs(y_dernier_pingouin):\n",
    "    x_coupure = x_dernier_pingouin\n",
    "    if y_dernier_pingouin <= 0 : \n",
    "        y_coupure = -15\n",
    "    else : \n",
    "        y_coupure = 15\n",
    "else : \n",
    "    y_coupure = y_dernier_pingouin\n",
    "    if x_dernier_pingouin <= 0 : \n",
    "        x_coupure = -15\n",
    "    else : \n",
    "        x_coupure = 15\n",
    "    \n",
    "pingouins_vertices = [Point(pingouin.real, pingouin.imag) for pingouin in pingouins_exte(n)]\n",
    "domain_vertices = [(x_coupure, y_coupure), (15,-15), (15, 15), (-15, 15), (-15,-15)]+pingouins_vertices\n",
    "domain = Polygon(domain_vertices)\n",
    "mesh = generate_mesh(domain,40)"
   ]
  },
  {
   "cell_type": "code",
   "execution_count": null,
   "id": "serious-clarity",
   "metadata": {},
   "outputs": [],
   "source": [
    "Hh2 = FunctionSpace(mesh, 'P', 2)"
   ]
  },
  {
   "cell_type": "markdown",
   "id": "sophisticated-application",
   "metadata": {},
   "source": [
    "### Conditions de bord"
   ]
  },
  {
   "cell_type": "code",
   "execution_count": null,
   "id": "liable-disposal",
   "metadata": {},
   "outputs": [],
   "source": [
    "def liste_pingouins(n):\n",
    "    return Liste_pingouins_finale[:n]\n",
    "\n",
    "def test_dedans(n, xp, yp):\n",
    "    L_triangles = []\n",
    "    L_pingouins = liste_pingouins(n)\n",
    "    for i in range(len(L_pingouins)):\n",
    "        for j in range(i+1, len(L_pingouins)):\n",
    "            for k in range(j+1, len(L_pingouins)):\n",
    "                if abs(L_pingouins[i]-L_pingouins[j])< 1.2 and abs(L_pingouins[i]-L_pingouins[k])< 1.2 and abs(L_pingouins[k]-L_pingouins[j])< 1.2:\n",
    "                    L_triangles.append((L_pingouins[i],L_pingouins[j],L_pingouins[k]))\n",
    "    \n",
    "    for triangle in L_triangles:\n",
    "        x1, y1 = triangle[0].real, triangle[0].imag\n",
    "        x2, y2 = triangle[1].real, triangle[1].imag\n",
    "        x3, y3 = triangle[2].real, triangle[2].imag\n",
    "        c1 = (x2 - x1) * (yp - y1) - (y2 - y1) * (xp - x1)\n",
    "        c2 = (x3 - x2) * (yp - y2) - (y3 - y2) * (xp - x2)\n",
    "        c3 = (x1 - x3) * (yp - y3) - (y1 - y3) * (xp - x3)\n",
    "        if (c1 < 0 and c2 < 0 and c3 < 0) or (c1 > 0 and c2 > 0 and c3 > 0):\n",
    "            return False\n",
    "\n",
    "    return True"
   ]
  },
  {
   "cell_type": "code",
   "execution_count": null,
   "id": "boolean-patent",
   "metadata": {},
   "outputs": [],
   "source": [
    "tol = 1E-14\n",
    "\n",
    "class Frontiere(SubDomain):\n",
    "    def inside(self, x, on_boundary):\n",
    "        frontiere = on_boundary\n",
    "        for i in range(len(Liste_pingouins_exte)-1):\n",
    "            x_1, y_1 = Liste_pingouins_exte[i].real, Liste_pingouins_exte[i].imag\n",
    "            x_2, y_2 = Liste_pingouins_exte[i+1].real, Liste_pingouins_exte[i+1].imag\n",
    "            ymin = min([y_1, y_2])\n",
    "            ymax = max([y_1, y_2])\n",
    "            if x_1 != x_2:\n",
    "                a = (y_2 - y_1)/(x_2 - x_1)\n",
    "                b = y_2 - a*x_2\n",
    "                frontiere = frontiere or (abs(x[1] - a*x[0]+b) < tol ) and  (x[1]<ymax and x[1]>ymin)\n",
    "            if x_1 == x_2:            \n",
    "                frontiere = frontiere or (( abs(x[0]-x_1)<tol) and (x[1]<ymax and x[1]>ymin))\n",
    "\n",
    "        return frontiere\n",
    "        \n",
    "\n",
    "class Cadre_Top(SubDomain):\n",
    "    def inside(self, x, on_boundary):\n",
    "        return on_boundary and (abs(x[0]-15)<tol) \n",
    "    \n",
    "class Cadre_Bot(SubDomain):\n",
    "    def inside(self, x, on_boundary):\n",
    "        return on_boundary and (abs(x[0]+15)<tol) \n",
    "\n",
    "class Cadre_Right(SubDomain):\n",
    "    def inside(self, x, on_boundary):\n",
    "        return on_boundary and (abs(x[1]-15)<tol) \n",
    "    \n",
    "class Cadre_Left(SubDomain):\n",
    "    def inside(self, x, on_boundary):\n",
    "        return on_boundary and (abs(x[0]+15)<tol) \n",
    "\n",
    " \n",
    "boundaries = MeshFunction(\"size_t\", mesh, mesh.topology().dim()-1, 0)\n",
    "boundaries_bool = MeshFunction(\"bool\", mesh, mesh.topology().dim()-1, 0)\n",
    "#boundaries_double = MeshFunction(\"double\", mesh, mesh.topology().dim()-1, 0)\n",
    "\n",
    "\n",
    "boundaries.set_all(5)\n",
    "boundaries_bool.set_all(True)\n",
    "#boundaries_double.set_all(0.3)\n",
    "\n",
    "frontiere = Frontiere()\n",
    "frontiere.mark(boundaries, 0)\n",
    "frontiere.mark(boundaries_bool, False)\n",
    "\n",
    "cadre_top = Cadre_Top()\n",
    "cadre_bot = Cadre_Bot()\n",
    "cadre_right = Cadre_Right()\n",
    "cadre_left = Cadre_Left()\n",
    "\n",
    "cadre_top.mark(boundaries, 1)\n",
    "cadre_left.mark(boundaries, 2)\n",
    "cadre_bot.mark(boundaries, 3)\n",
    "cadre_right.mark(boundaries, 4)\n",
    "\n",
    "ds = Measure(\"ds\", domain=mesh, subdomain_data=boundaries_bool)\n",
    "\n",
    "DirichCond = [DirichletBC(Hh2, Constant(1), frontiere), DirichletBC(Hh2, Constant(Tinf), cadre_top), DirichletBC(Hh2, Constant(Tinf), cadre_bot), DirichletBC(Hh2, Constant(Tinf), cadre_right), DirichletBC(Hh2, Constant(Tinf), cadre_left)]"
   ]
  },
  {
   "cell_type": "markdown",
   "id": "interior-croatia",
   "metadata": {},
   "source": [
    "### Résolution de la formulation variationnelle"
   ]
  },
  {
   "cell_type": "code",
   "execution_count": null,
   "id": "interior-coordinator",
   "metadata": {},
   "outputs": [],
   "source": [
    "u = TrialFunction(Hh2)\n",
    "v = TestFunction(Hh2)\n",
    "F = (inner(grad(u), grad(v))-Pe*(cos(alpha)*grad(u)[0]+sin(alpha)*grad(u)[1]*v))*dx\n",
    "\n",
    "\n",
    "a = lhs(F)\n",
    "l = rhs(F)\n",
    "\n",
    "u = Function(Hh2)\n",
    "solve(a == l, u, DirichCond)"
   ]
  },
  {
   "cell_type": "markdown",
   "id": "collaborative-thermal",
   "metadata": {},
   "source": [
    "### Tracé de la solution"
   ]
  },
  {
   "cell_type": "code",
   "execution_count": null,
   "id": "light-extraction",
   "metadata": {
    "scrolled": true
   },
   "outputs": [],
   "source": [
    "fig = plt.figure()\n",
    "ax = fig.add_subplot(111)\n",
    "\n",
    "x= np.linspace(-15, 15, 1)\n",
    "y = np.linspace(-15, 15, 1)\n",
    "ax.plot(x, y)\n",
    "\n",
    "x0 = 0\n",
    "y0 = -10\n",
    "xw = w0*cos(alpha)\n",
    "yw = w0*sin(alpha)\n",
    "\n",
    "arr = plt.Arrow(x0, y0, xw, yw, edgecolor='black')\n",
    "ax.add_patch(arr)\n",
    "arr.set_facecolor('b')\n",
    "\n",
    "\n",
    "\n",
    "plu = plot(u)\n",
    "plt.title('Champ de température autour des pingouins')\n",
    "plt.xlabel('x')\n",
    "plt.ylabel('y')\n",
    "plt.colorbar(plu)\n",
    "\n",
    "plt.show()"
   ]
  },
  {
   "cell_type": "markdown",
   "id": "brown-producer",
   "metadata": {},
   "source": [
    "### 4) Conclusion \n",
    "\n",
    "La forme du groupe de manchots ainsi que la direction du vent et son intensité ont donc une influence importante sur la température autour de ce groupe de manchots."
   ]
  },
  {
   "cell_type": "markdown",
   "id": "attractive-south",
   "metadata": {},
   "source": [
    "Sources utilisées : \n",
    "\n",
    "http://www.breves-de-maths.fr/la-marche-de-lempereur/\n",
    "\n",
    "https://journals.plos.org/plosone/article?id=10.1371/journal.pone.0050277\n",
    "    \n",
    "https://en.wikipedia.org/wiki/Convection%E2%80%93diffusion_equation\n",
    "https://fr.wikipedia.org/wiki/Air\n",
    "    \n",
    "https://fenicsproject.org/olddocs/dolfin/1.3.0/python/demo/documented/poisson/python/documentation.html\n",
    "\n",
    "https://fenicsproject.org/docs/dolfin/2016.2.0/python/demo/documented/subdomains-poisson/python/documentation.html"
   ]
  }
 ],
 "metadata": {
  "kernelspec": {
   "display_name": "Python 3",
   "language": "python",
   "name": "python3"
  },
  "language_info": {
   "codemirror_mode": {
    "name": "ipython",
    "version": 3
   },
   "file_extension": ".py",
   "mimetype": "text/x-python",
   "name": "python",
   "nbconvert_exporter": "python",
   "pygments_lexer": "ipython3",
   "version": "3.8.5"
  }
 },
 "nbformat": 4,
 "nbformat_minor": 5
}
